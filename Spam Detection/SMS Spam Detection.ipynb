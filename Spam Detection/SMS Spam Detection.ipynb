{
 "cells": [
  {
   "cell_type": "markdown",
   "metadata": {
    "id": "ty-ppSBvUsDi"
   },
   "source": [
    "# SMS SPAM DETECTION USING SVM and LR"
   ]
  },
  {
   "cell_type": "markdown",
   "metadata": {
    "id": "_GGQyY8BT3us"
   },
   "source": [
    "# Importing required libraries\n",
    "---"
   ]
  },
  {
   "cell_type": "code",
   "execution_count": 208,
   "metadata": {
    "execution": {
     "iopub.execute_input": "2023-03-01T15:36:14.083590Z",
     "iopub.status.busy": "2023-03-01T15:36:14.082874Z",
     "iopub.status.idle": "2023-03-01T15:36:14.089554Z",
     "shell.execute_reply": "2023-03-01T15:36:14.088233Z",
     "shell.execute_reply.started": "2023-03-01T15:36:14.083548Z"
    },
    "id": "WoWd6iByT3us"
   },
   "outputs": [],
   "source": [
    "import pandas as pd\n",
    "import re\n",
    "import nltk\n",
    "from nltk.corpus import stopwords\n",
    "from nltk.stem import PorterStemmer\n",
    "from sklearn.feature_extraction.text import CountVectorizer\n",
    "from sklearn.feature_extraction.text import TfidfVectorizer\n",
    "from sklearn.model_selection import train_test_split\n",
    "from sklearn.svm import SVC\n",
    "from sklearn.linear_model import LogisticRegression\n",
    "from sklearn.metrics import classification_report, accuracy_score\n",
    "import seaborn as sns\n",
    "import matplotlib.pyplot as plt\n",
    "from tqdm.auto import tqdm\n",
    "import time\n"
   ]
  },
  {
   "cell_type": "markdown",
   "metadata": {
    "id": "fdfyUFAZT3uu"
   },
   "source": [
    "# Data Loading\n",
    "---"
   ]
  },
  {
   "cell_type": "code",
   "execution_count": 209,
   "metadata": {
    "execution": {
     "iopub.execute_input": "2023-03-01T15:38:07.153607Z",
     "iopub.status.busy": "2023-03-01T15:38:07.153034Z",
     "iopub.status.idle": "2023-03-01T15:38:07.186116Z",
     "shell.execute_reply": "2023-03-01T15:38:07.184897Z",
     "shell.execute_reply.started": "2023-03-01T15:38:07.153556Z"
    },
    "id": "X3ZJHc_WT3uu",
    "scrolled": true
   },
   "outputs": [],
   "source": [
    "df = pd.read_csv('spam.csv', encoding='latin-1')"
   ]
  },
  {
   "cell_type": "code",
   "execution_count": 210,
   "metadata": {
    "colab": {
     "base_uri": "https://localhost:8080/",
     "height": 423
    },
    "execution": {
     "iopub.execute_input": "2023-03-01T15:38:09.272050Z",
     "iopub.status.busy": "2023-03-01T15:38:09.271321Z",
     "iopub.status.idle": "2023-03-01T15:38:09.305953Z",
     "shell.execute_reply": "2023-03-01T15:38:09.304835Z",
     "shell.execute_reply.started": "2023-03-01T15:38:09.272008Z"
    },
    "id": "JVQV49-tT3uu",
    "outputId": "f55ad1b0-9f93-45aa-ff64-0bd4ba9ad529"
   },
   "outputs": [
    {
     "data": {
      "text/html": [
       "<div>\n",
       "<style scoped>\n",
       "    .dataframe tbody tr th:only-of-type {\n",
       "        vertical-align: middle;\n",
       "    }\n",
       "\n",
       "    .dataframe tbody tr th {\n",
       "        vertical-align: top;\n",
       "    }\n",
       "\n",
       "    .dataframe thead th {\n",
       "        text-align: right;\n",
       "    }\n",
       "</style>\n",
       "<table border=\"1\" class=\"dataframe\">\n",
       "  <thead>\n",
       "    <tr style=\"text-align: right;\">\n",
       "      <th></th>\n",
       "      <th>v1</th>\n",
       "      <th>v2</th>\n",
       "      <th>Unnamed: 2</th>\n",
       "      <th>Unnamed: 3</th>\n",
       "      <th>Unnamed: 4</th>\n",
       "    </tr>\n",
       "  </thead>\n",
       "  <tbody>\n",
       "    <tr>\n",
       "      <th>0</th>\n",
       "      <td>ham</td>\n",
       "      <td>Go until jurong point, crazy.. Available only ...</td>\n",
       "      <td>NaN</td>\n",
       "      <td>NaN</td>\n",
       "      <td>NaN</td>\n",
       "    </tr>\n",
       "    <tr>\n",
       "      <th>1</th>\n",
       "      <td>ham</td>\n",
       "      <td>Ok lar... Joking wif u oni...</td>\n",
       "      <td>NaN</td>\n",
       "      <td>NaN</td>\n",
       "      <td>NaN</td>\n",
       "    </tr>\n",
       "    <tr>\n",
       "      <th>2</th>\n",
       "      <td>spam</td>\n",
       "      <td>Free entry in 2 a wkly comp to win FA Cup fina...</td>\n",
       "      <td>NaN</td>\n",
       "      <td>NaN</td>\n",
       "      <td>NaN</td>\n",
       "    </tr>\n",
       "    <tr>\n",
       "      <th>3</th>\n",
       "      <td>ham</td>\n",
       "      <td>U dun say so early hor... U c already then say...</td>\n",
       "      <td>NaN</td>\n",
       "      <td>NaN</td>\n",
       "      <td>NaN</td>\n",
       "    </tr>\n",
       "    <tr>\n",
       "      <th>4</th>\n",
       "      <td>ham</td>\n",
       "      <td>Nah I don't think he goes to usf, he lives aro...</td>\n",
       "      <td>NaN</td>\n",
       "      <td>NaN</td>\n",
       "      <td>NaN</td>\n",
       "    </tr>\n",
       "    <tr>\n",
       "      <th>...</th>\n",
       "      <td>...</td>\n",
       "      <td>...</td>\n",
       "      <td>...</td>\n",
       "      <td>...</td>\n",
       "      <td>...</td>\n",
       "    </tr>\n",
       "    <tr>\n",
       "      <th>5567</th>\n",
       "      <td>spam</td>\n",
       "      <td>This is the 2nd time we have tried 2 contact u...</td>\n",
       "      <td>NaN</td>\n",
       "      <td>NaN</td>\n",
       "      <td>NaN</td>\n",
       "    </tr>\n",
       "    <tr>\n",
       "      <th>5568</th>\n",
       "      <td>ham</td>\n",
       "      <td>Will Ì_ b going to esplanade fr home?</td>\n",
       "      <td>NaN</td>\n",
       "      <td>NaN</td>\n",
       "      <td>NaN</td>\n",
       "    </tr>\n",
       "    <tr>\n",
       "      <th>5569</th>\n",
       "      <td>ham</td>\n",
       "      <td>Pity, * was in mood for that. So...any other s...</td>\n",
       "      <td>NaN</td>\n",
       "      <td>NaN</td>\n",
       "      <td>NaN</td>\n",
       "    </tr>\n",
       "    <tr>\n",
       "      <th>5570</th>\n",
       "      <td>ham</td>\n",
       "      <td>The guy did some bitching but I acted like i'd...</td>\n",
       "      <td>NaN</td>\n",
       "      <td>NaN</td>\n",
       "      <td>NaN</td>\n",
       "    </tr>\n",
       "    <tr>\n",
       "      <th>5571</th>\n",
       "      <td>ham</td>\n",
       "      <td>Rofl. Its true to its name</td>\n",
       "      <td>NaN</td>\n",
       "      <td>NaN</td>\n",
       "      <td>NaN</td>\n",
       "    </tr>\n",
       "  </tbody>\n",
       "</table>\n",
       "<p>5572 rows × 5 columns</p>\n",
       "</div>"
      ],
      "text/plain": [
       "        v1                                                 v2 Unnamed: 2  \\\n",
       "0      ham  Go until jurong point, crazy.. Available only ...        NaN   \n",
       "1      ham                      Ok lar... Joking wif u oni...        NaN   \n",
       "2     spam  Free entry in 2 a wkly comp to win FA Cup fina...        NaN   \n",
       "3      ham  U dun say so early hor... U c already then say...        NaN   \n",
       "4      ham  Nah I don't think he goes to usf, he lives aro...        NaN   \n",
       "...    ...                                                ...        ...   \n",
       "5567  spam  This is the 2nd time we have tried 2 contact u...        NaN   \n",
       "5568   ham              Will Ì_ b going to esplanade fr home?        NaN   \n",
       "5569   ham  Pity, * was in mood for that. So...any other s...        NaN   \n",
       "5570   ham  The guy did some bitching but I acted like i'd...        NaN   \n",
       "5571   ham                         Rofl. Its true to its name        NaN   \n",
       "\n",
       "     Unnamed: 3 Unnamed: 4  \n",
       "0           NaN        NaN  \n",
       "1           NaN        NaN  \n",
       "2           NaN        NaN  \n",
       "3           NaN        NaN  \n",
       "4           NaN        NaN  \n",
       "...         ...        ...  \n",
       "5567        NaN        NaN  \n",
       "5568        NaN        NaN  \n",
       "5569        NaN        NaN  \n",
       "5570        NaN        NaN  \n",
       "5571        NaN        NaN  \n",
       "\n",
       "[5572 rows x 5 columns]"
      ]
     },
     "execution_count": 210,
     "metadata": {},
     "output_type": "execute_result"
    }
   ],
   "source": [
    "df"
   ]
  },
  {
   "cell_type": "code",
   "execution_count": 211,
   "metadata": {
    "execution": {
     "iopub.execute_input": "2023-03-01T15:39:04.156874Z",
     "iopub.status.busy": "2023-03-01T15:39:04.156420Z",
     "iopub.status.idle": "2023-03-01T15:39:04.166802Z",
     "shell.execute_reply": "2023-03-01T15:39:04.165051Z",
     "shell.execute_reply.started": "2023-03-01T15:39:04.156827Z"
    },
    "id": "XHPkh85VT3uv"
   },
   "outputs": [],
   "source": [
    "df.drop(['Unnamed: 2','Unnamed: 3', 'Unnamed: 4'], axis = 1, inplace = True)"
   ]
  },
  {
   "cell_type": "markdown",
   "metadata": {
    "id": "B-1qKkWNT3ux"
   },
   "source": [
    "# Handling Null Values"
   ]
  },
  {
   "cell_type": "code",
   "execution_count": 212,
   "metadata": {
    "colab": {
     "base_uri": "https://localhost:8080/"
    },
    "execution": {
     "iopub.execute_input": "2023-03-01T15:39:33.871831Z",
     "iopub.status.busy": "2023-03-01T15:39:33.871427Z",
     "iopub.status.idle": "2023-03-01T15:39:33.881122Z",
     "shell.execute_reply": "2023-03-01T15:39:33.879890Z",
     "shell.execute_reply.started": "2023-03-01T15:39:33.871795Z"
    },
    "id": "C3eTSQfzT3ux",
    "outputId": "b937f649-0c8e-4e73-b41b-c5b4c1820ccd"
   },
   "outputs": [
    {
     "data": {
      "text/plain": [
       "v1    False\n",
       "v2    False\n",
       "dtype: bool"
      ]
     },
     "execution_count": 212,
     "metadata": {},
     "output_type": "execute_result"
    }
   ],
   "source": [
    "df.isna().any()"
   ]
  },
  {
   "cell_type": "code",
   "execution_count": 213,
   "metadata": {
    "colab": {
     "base_uri": "https://localhost:8080/"
    },
    "execution": {
     "iopub.execute_input": "2023-03-01T15:39:55.882620Z",
     "iopub.status.busy": "2023-03-01T15:39:55.882050Z",
     "iopub.status.idle": "2023-03-01T15:39:55.893706Z",
     "shell.execute_reply": "2023-03-01T15:39:55.892601Z",
     "shell.execute_reply.started": "2023-03-01T15:39:55.882563Z"
    },
    "id": "l5zalIP5T3ux",
    "outputId": "9c016c3a-6e38-4493-f7d3-cd57b0b7e4fb"
   },
   "outputs": [
    {
     "data": {
      "text/plain": [
       "v1    0\n",
       "v2    0\n",
       "dtype: int64"
      ]
     },
     "execution_count": 213,
     "metadata": {},
     "output_type": "execute_result"
    }
   ],
   "source": [
    "df.isna().sum()"
   ]
  },
  {
   "cell_type": "markdown",
   "metadata": {
    "id": "9aQm4aPzT3uy"
   },
   "source": [
    "# Handling Duplicate Values"
   ]
  },
  {
   "cell_type": "code",
   "execution_count": 214,
   "metadata": {
    "colab": {
     "base_uri": "https://localhost:8080/"
    },
    "execution": {
     "iopub.execute_input": "2023-03-01T15:40:32.191729Z",
     "iopub.status.busy": "2023-03-01T15:40:32.191234Z",
     "iopub.status.idle": "2023-03-01T15:40:32.199196Z",
     "shell.execute_reply": "2023-03-01T15:40:32.198258Z",
     "shell.execute_reply.started": "2023-03-01T15:40:32.191688Z"
    },
    "id": "MxYdqe2ZT3uy",
    "outputId": "3991fa74-dede-4728-f94f-e786228928f5"
   },
   "outputs": [
    {
     "data": {
      "text/plain": [
       "(5572, 2)"
      ]
     },
     "execution_count": 214,
     "metadata": {},
     "output_type": "execute_result"
    }
   ],
   "source": [
    "df.shape"
   ]
  },
  {
   "cell_type": "code",
   "execution_count": 215,
   "metadata": {
    "execution": {
     "iopub.execute_input": "2023-03-01T15:41:20.862195Z",
     "iopub.status.busy": "2023-03-01T15:41:20.861793Z",
     "iopub.status.idle": "2023-03-01T15:41:20.868458Z",
     "shell.execute_reply": "2023-03-01T15:41:20.866959Z",
     "shell.execute_reply.started": "2023-03-01T15:41:20.862159Z"
    },
    "id": "1sC3mRykT3uy"
   },
   "outputs": [],
   "source": [
    "df['v2'].drop_duplicates(inplace = True)"
   ]
  },
  {
   "cell_type": "code",
   "execution_count": 216,
   "metadata": {
    "colab": {
     "base_uri": "https://localhost:8080/"
    },
    "execution": {
     "iopub.execute_input": "2023-03-01T15:41:22.897194Z",
     "iopub.status.busy": "2023-03-01T15:41:22.896491Z",
     "iopub.status.idle": "2023-03-01T15:41:22.903942Z",
     "shell.execute_reply": "2023-03-01T15:41:22.903013Z",
     "shell.execute_reply.started": "2023-03-01T15:41:22.897144Z"
    },
    "id": "4C1ykwbXT3uz",
    "outputId": "3f837fa8-ac99-4e11-cae0-ea68acb13337"
   },
   "outputs": [
    {
     "data": {
      "text/plain": [
       "(5572, 2)"
      ]
     },
     "execution_count": 216,
     "metadata": {},
     "output_type": "execute_result"
    }
   ],
   "source": [
    "df.shape"
   ]
  },
  {
   "cell_type": "code",
   "execution_count": 217,
   "metadata": {
    "colab": {
     "base_uri": "https://localhost:8080/",
     "height": 423
    },
    "execution": {
     "iopub.execute_input": "2023-03-01T15:41:29.957770Z",
     "iopub.status.busy": "2023-03-01T15:41:29.957054Z",
     "iopub.status.idle": "2023-03-01T15:41:29.970648Z",
     "shell.execute_reply": "2023-03-01T15:41:29.969421Z",
     "shell.execute_reply.started": "2023-03-01T15:41:29.957726Z"
    },
    "id": "NQciVhg5T3uz",
    "outputId": "45c1fe7d-d432-46e3-f390-97f64ea62931"
   },
   "outputs": [
    {
     "data": {
      "text/html": [
       "<div>\n",
       "<style scoped>\n",
       "    .dataframe tbody tr th:only-of-type {\n",
       "        vertical-align: middle;\n",
       "    }\n",
       "\n",
       "    .dataframe tbody tr th {\n",
       "        vertical-align: top;\n",
       "    }\n",
       "\n",
       "    .dataframe thead th {\n",
       "        text-align: right;\n",
       "    }\n",
       "</style>\n",
       "<table border=\"1\" class=\"dataframe\">\n",
       "  <thead>\n",
       "    <tr style=\"text-align: right;\">\n",
       "      <th></th>\n",
       "      <th>v1</th>\n",
       "      <th>v2</th>\n",
       "    </tr>\n",
       "  </thead>\n",
       "  <tbody>\n",
       "    <tr>\n",
       "      <th>0</th>\n",
       "      <td>ham</td>\n",
       "      <td>Go until jurong point, crazy.. Available only ...</td>\n",
       "    </tr>\n",
       "    <tr>\n",
       "      <th>1</th>\n",
       "      <td>ham</td>\n",
       "      <td>Ok lar... Joking wif u oni...</td>\n",
       "    </tr>\n",
       "    <tr>\n",
       "      <th>2</th>\n",
       "      <td>spam</td>\n",
       "      <td>Free entry in 2 a wkly comp to win FA Cup fina...</td>\n",
       "    </tr>\n",
       "    <tr>\n",
       "      <th>3</th>\n",
       "      <td>ham</td>\n",
       "      <td>U dun say so early hor... U c already then say...</td>\n",
       "    </tr>\n",
       "    <tr>\n",
       "      <th>4</th>\n",
       "      <td>ham</td>\n",
       "      <td>Nah I don't think he goes to usf, he lives aro...</td>\n",
       "    </tr>\n",
       "    <tr>\n",
       "      <th>...</th>\n",
       "      <td>...</td>\n",
       "      <td>...</td>\n",
       "    </tr>\n",
       "    <tr>\n",
       "      <th>5567</th>\n",
       "      <td>spam</td>\n",
       "      <td>This is the 2nd time we have tried 2 contact u...</td>\n",
       "    </tr>\n",
       "    <tr>\n",
       "      <th>5568</th>\n",
       "      <td>ham</td>\n",
       "      <td>Will Ì_ b going to esplanade fr home?</td>\n",
       "    </tr>\n",
       "    <tr>\n",
       "      <th>5569</th>\n",
       "      <td>ham</td>\n",
       "      <td>Pity, * was in mood for that. So...any other s...</td>\n",
       "    </tr>\n",
       "    <tr>\n",
       "      <th>5570</th>\n",
       "      <td>ham</td>\n",
       "      <td>The guy did some bitching but I acted like i'd...</td>\n",
       "    </tr>\n",
       "    <tr>\n",
       "      <th>5571</th>\n",
       "      <td>ham</td>\n",
       "      <td>Rofl. Its true to its name</td>\n",
       "    </tr>\n",
       "  </tbody>\n",
       "</table>\n",
       "<p>5572 rows × 2 columns</p>\n",
       "</div>"
      ],
      "text/plain": [
       "        v1                                                 v2\n",
       "0      ham  Go until jurong point, crazy.. Available only ...\n",
       "1      ham                      Ok lar... Joking wif u oni...\n",
       "2     spam  Free entry in 2 a wkly comp to win FA Cup fina...\n",
       "3      ham  U dun say so early hor... U c already then say...\n",
       "4      ham  Nah I don't think he goes to usf, he lives aro...\n",
       "...    ...                                                ...\n",
       "5567  spam  This is the 2nd time we have tried 2 contact u...\n",
       "5568   ham              Will Ì_ b going to esplanade fr home?\n",
       "5569   ham  Pity, * was in mood for that. So...any other s...\n",
       "5570   ham  The guy did some bitching but I acted like i'd...\n",
       "5571   ham                         Rofl. Its true to its name\n",
       "\n",
       "[5572 rows x 2 columns]"
      ]
     },
     "execution_count": 217,
     "metadata": {},
     "output_type": "execute_result"
    }
   ],
   "source": [
    "df"
   ]
  },
  {
   "cell_type": "markdown",
   "metadata": {
    "id": "kSgvbONYT3uz"
   },
   "source": [
    "# Class Distributions"
   ]
  },
  {
   "cell_type": "code",
   "execution_count": 218,
   "metadata": {
    "colab": {
     "base_uri": "https://localhost:8080/",
     "height": 313
    },
    "execution": {
     "iopub.execute_input": "2023-03-01T15:42:08.608259Z",
     "iopub.status.busy": "2023-03-01T15:42:08.607223Z",
     "iopub.status.idle": "2023-03-01T15:42:08.878984Z",
     "shell.execute_reply": "2023-03-01T15:42:08.877888Z",
     "shell.execute_reply.started": "2023-03-01T15:42:08.608207Z"
    },
    "id": "a0a0ubo_T3uz",
    "outputId": "eedc8e52-c0aa-4f51-b386-7a21536dc4bd"
   },
   "outputs": [
    {
     "data": {
      "image/png": "[encoded data removed]",
      "text/plain": [
       "<Figure size 432x288 with 1 Axes>"
      ]
     },
     "metadata": {
      "needs_background": "light"
     },
     "output_type": "display_data"
    }
   ],
   "source": [
    "# Create a bar plot of the class distribution\n",
    "class_counts = df['v1'].value_counts()\n",
    "class_counts.plot(kind='bar')\n",
    "plt.title('Class Distribution of Spam/Ham')\n",
    "plt.xlabel('Spam/Ham')\n",
    "plt.ylabel('Number of Mails')\n",
    "plt.show()"
   ]
  },
  {
   "cell_type": "markdown",
   "metadata": {
    "id": "PrAZoUPPT3u2"
   },
   "source": [
    "# Data Cleaning"
   ]
  },
  {
   "cell_type": "code",
   "execution_count": 219,
   "metadata": {
    "execution": {
     "iopub.execute_input": "2023-03-01T15:45:32.152635Z",
     "iopub.status.busy": "2023-03-01T15:45:32.151773Z",
     "iopub.status.idle": "2023-03-01T15:45:32.159040Z",
     "shell.execute_reply": "2023-03-01T15:45:32.158069Z",
     "shell.execute_reply.started": "2023-03-01T15:45:32.152592Z"
    },
    "id": "sJD3aEEPT3u2"
   },
   "outputs": [],
   "source": [
    "# Clean the data\n",
    "def clean_text(text):\n",
    "    # Remove HTML tags\n",
    "    text = re.sub('<.*?>', '', text)\n",
    "    # Remove non-alphabetic characters and convert to lowercase\n",
    "    text = re.sub('[^a-zA-Z]', ' ', text).lower()\n",
    "    # Tokenize the text\n",
    "    words = nltk.word_tokenize(text)\n",
    "    # Remove stopwords\n",
    "    words = [w for w in words if w not in stopwords.words('english')]\n",
    "    # Stem the words\n",
    "    stemmer = PorterStemmer()\n",
    "    words = [stemmer.stem(w) for w in words]\n",
    "    # Join the words back into a string\n",
    "    text = ' '.join(words)\n",
    "    return text"
   ]
  },
  {
   "cell_type": "code",
   "execution_count": 220,
   "metadata": {
    "colab": {
     "base_uri": "https://localhost:8080/",
     "height": 85,
     "referenced_widgets": [
      "9e46f181237d44f9b5a62c9e80924d1c",
      "c2878f5afdcb45aba6a3dfde99eb04ab",
      "df1bb1e0ca7d4729888838c313541ea0",
      "1bf07b30c8d8402aaaed94c725263b3e",
      "62b8797979dc4c34b9abdaa331be351d",
      "c3d2a2764e154874bdeb3de4bca0a413",
      "d224f2a52b36473592156da6a9bebdeb",
      "11ca28f6868e443b8b6d4c8c796cb0dd",
      "3595e6b5acc54ab9a612556b2dd0ce15",
      "9413b6b656fe47708826ff8abf769d6d",
      "77d36c0017584314ad8c5454ccc505a2"
     ]
    },
    "execution": {
     "iopub.execute_input": "2023-03-01T15:45:48.292734Z",
     "iopub.status.busy": "2023-03-01T15:45:48.292328Z",
     "iopub.status.idle": "2023-03-01T15:46:03.536189Z",
     "shell.execute_reply": "2023-03-01T15:46:03.534963Z",
     "shell.execute_reply.started": "2023-03-01T15:45:48.292702Z"
    },
    "id": "-RW4X2BfT3u2",
    "outputId": "05a0aaa1-0d00-498f-f319-634ea03f4c2c"
   },
   "outputs": [
    {
     "data": {
      "application/vnd.jupyter.widget-view+json": {
       "model_id": "edcc62e3968245488e9a34b68dfcd296",
       "version_major": 2,
       "version_minor": 0
      },
      "text/plain": [
       "  0%|          | 0/5572 [00:00<?, ?it/s]"
      ]
     },
     "metadata": {},
     "output_type": "display_data"
    },
    {
     "name": "stdout",
     "output_type": "stream",
     "text": [
      "Wall time: 19.3 s\n"
     ]
    }
   ],
   "source": [
    "%%time\n",
    "\n",
    "tqdm.pandas()\n",
    "\n",
    "df['cleaned_text'] = df['v2'].progress_apply(clean_text)"
   ]
  },
  {
   "cell_type": "markdown",
   "metadata": {
    "id": "VTV_556uT3u3"
   },
   "source": [
    "# Feature Extraction"
   ]
  },
  {
   "cell_type": "code",
   "execution_count": 221,
   "metadata": {
    "execution": {
     "iopub.execute_input": "2023-03-01T15:46:20.363808Z",
     "iopub.status.busy": "2023-03-01T15:46:20.362941Z",
     "iopub.status.idle": "2023-03-01T15:46:20.513875Z",
     "shell.execute_reply": "2023-03-01T15:46:20.512833Z",
     "shell.execute_reply.started": "2023-03-01T15:46:20.363764Z"
    },
    "id": "iZWovo2lT3u3"
   },
   "outputs": [],
   "source": [
    "# Create the Bag of Words model\n",
    "cv = CountVectorizer(max_features=5000)\n",
    "X = cv.fit_transform(df['cleaned_text']).toarray()\n",
    "y = df['v1']"
   ]
  },
  {
   "cell_type": "code",
   "execution_count": 222,
   "metadata": {
    "execution": {
     "iopub.execute_input": "2023-03-01T15:46:31.318017Z",
     "iopub.status.busy": "2023-03-01T15:46:31.317339Z",
     "iopub.status.idle": "2023-03-01T15:46:31.465379Z",
     "shell.execute_reply": "2023-03-01T15:46:31.463918Z",
     "shell.execute_reply.started": "2023-03-01T15:46:31.317976Z"
    },
    "id": "DGV_3ssYT3u3"
   },
   "outputs": [],
   "source": [
    "# Split the data into training and testing sets\n",
    "from sklearn.model_selection import train_test_split\n",
    "X_train, X_test, y_train, y_test = train_test_split(X, y, test_size=0.2, random_state=42)"
   ]
  },
  {
   "cell_type": "markdown",
   "metadata": {
    "id": "R-bAbKJyT3u3"
   },
   "source": [
    "# Classification Model\n",
    "---\n"
   ]
  },
  {
   "cell_type": "markdown",
   "metadata": {
    "id": "_ME6y8KET3u4"
   },
   "source": [
    "# Logistic Regression Model"
   ]
  },
  {
   "cell_type": "code",
   "execution_count": 223,
   "metadata": {
    "execution": {
     "iopub.execute_input": "2023-03-01T15:47:14.203222Z",
     "iopub.status.busy": "2023-03-01T15:47:14.202752Z",
     "iopub.status.idle": "2023-03-01T15:47:14.209604Z",
     "shell.execute_reply": "2023-03-01T15:47:14.208388Z",
     "shell.execute_reply.started": "2023-03-01T15:47:14.203183Z"
    },
    "id": "j6TEC74DT3u4"
   },
   "outputs": [
    {
     "data": {
      "text/plain": [
       "LogisticRegression()"
      ]
     },
     "execution_count": 223,
     "metadata": {},
     "output_type": "execute_result"
    }
   ],
   "source": [
    "# Train Logistic Regression model\n",
    "lr_model = LogisticRegression()\n",
    "lr_model.fit(X_train, y_train)"
   ]
  },
  {
   "cell_type": "code",
   "execution_count": 224,
   "metadata": {},
   "outputs": [
    {
     "name": "stdout",
     "output_type": "stream",
     "text": [
      "\n",
      "Logistic Regression Model Report:\n",
      "              precision    recall  f1-score   support\n",
      "\n",
      "         ham       0.97      1.00      0.99       965\n",
      "        spam       1.00      0.83      0.91       150\n",
      "\n",
      "    accuracy                           0.98      1115\n",
      "   macro avg       0.99      0.92      0.95      1115\n",
      "weighted avg       0.98      0.98      0.98      1115\n",
      "\n",
      "Accuracy: 0.98\n"
     ]
    }
   ],
   "source": [
    "print(\"\\nLogistic Regression Model Report:\")\n",
    "print(classification_report(y_test, y_pred_lr))\n",
    "print(f\"Accuracy: {accuracy_score(y_test, y_pred_lr):.2f}\")"
   ]
  },
  {
   "cell_type": "markdown",
   "metadata": {},
   "source": [
    "# SVM Model"
   ]
  },
  {
   "cell_type": "code",
   "execution_count": 225,
   "metadata": {},
   "outputs": [
    {
     "data": {
      "text/plain": [
       "SVC(kernel='linear')"
      ]
     },
     "execution_count": 225,
     "metadata": {},
     "output_type": "execute_result"
    }
   ],
   "source": [
    "# Train SVM model\n",
    "svm_model = SVC(kernel='linear')\n",
    "svm_model.fit(X_train, y_train)"
   ]
  },
  {
   "cell_type": "code",
   "execution_count": 226,
   "metadata": {},
   "outputs": [],
   "source": [
    "# Evaluate models\n",
    "y_pred_svm = svm_model.predict(X_test)"
   ]
  },
  {
   "cell_type": "code",
   "execution_count": 227,
   "metadata": {},
   "outputs": [
    {
     "name": "stdout",
     "output_type": "stream",
     "text": [
      "SVM Model Report:\n",
      "              precision    recall  f1-score   support\n",
      "\n",
      "         ham       0.98      1.00      0.99       965\n",
      "        spam       0.98      0.85      0.91       150\n",
      "\n",
      "    accuracy                           0.98      1115\n",
      "   macro avg       0.98      0.93      0.95      1115\n",
      "weighted avg       0.98      0.98      0.98      1115\n",
      "\n",
      "Accuracy: 0.98\n"
     ]
    }
   ],
   "source": [
    "print(\"SVM Model Report:\")\n",
    "print(classification_report(y_test, y_pred_svm))\n",
    "print(f\"Accuracy: {accuracy_score(y_test, y_pred_svm):.2f}\")"
   ]
  },
  {
   "cell_type": "markdown",
   "metadata": {
    "id": "Thy_UQLAT3u4"
   },
   "source": [
    "# Predictions"
   ]
  },
  {
   "cell_type": "code",
   "execution_count": 234,
   "metadata": {},
   "outputs": [
    {
     "data": {
      "text/plain": [
       "array(['ham', 'ham', 'ham', ..., 'ham', 'ham', 'ham'], dtype=object)"
      ]
     },
     "execution_count": 234,
     "metadata": {},
     "output_type": "execute_result"
    }
   ],
   "source": [
    "# evaluate the classifier on the test set\n",
    "y_pred_lr = lr_model.predict(X_test)\n",
    "y_pred_lr"
   ]
  },
  {
   "cell_type": "markdown",
   "metadata": {
    "id": "LhzoV3KOT3u5"
   },
   "source": [
    "# Accuracy"
   ]
  },
  {
   "cell_type": "code",
   "execution_count": 230,
   "metadata": {
    "colab": {
     "base_uri": "https://localhost:8080/"
    },
    "execution": {
     "iopub.execute_input": "2023-03-01T15:47:39.651526Z",
     "iopub.status.busy": "2023-03-01T15:47:39.651103Z",
     "iopub.status.idle": "2023-03-01T15:47:39.660586Z",
     "shell.execute_reply": "2023-03-01T15:47:39.659138Z",
     "shell.execute_reply.started": "2023-03-01T15:47:39.651489Z"
    },
    "id": "ucpspUWKT3u5",
    "outputId": "807f646a-fa6e-48a1-c371-a034aeb91d54"
   },
   "outputs": [
    {
     "name": "stdout",
     "output_type": "stream",
     "text": [
      "Accuracy: 0.9775784753363229\n"
     ]
    }
   ],
   "source": [
    "acc = accuracy_score(y_test, y_pred)\n",
    "print(\"Accuracy:\", acc)"
   ]
  },
  {
   "cell_type": "markdown",
   "metadata": {
    "id": "OFRSvodnT3u5"
   },
   "source": [
    "# Confusion Matrix"
   ]
  },
  {
   "cell_type": "code",
   "execution_count": 231,
   "metadata": {
    "colab": {
     "base_uri": "https://localhost:8080/",
     "height": 283
    },
    "execution": {
     "iopub.execute_input": "2023-03-01T15:47:49.073421Z",
     "iopub.status.busy": "2023-03-01T15:47:49.072649Z",
     "iopub.status.idle": "2023-03-01T15:47:49.346610Z",
     "shell.execute_reply": "2023-03-01T15:47:49.345729Z",
     "shell.execute_reply.started": "2023-03-01T15:47:49.073363Z"
    },
    "id": "69S40mMjT3u5",
    "outputId": "0c2d0570-6f34-40a9-9b69-6b107b0f90e0"
   },
   "outputs": [
    {
     "data": {
      "text/plain": [
       "<AxesSubplot:>"
      ]
     },
     "execution_count": 231,
     "metadata": {},
     "output_type": "execute_result"
    },
    {
     "data": {
      "image/png": "[encoded data removed]",
      "text/plain": [
       "<Figure size 432x288 with 2 Axes>"
      ]
     },
     "metadata": {
      "needs_background": "light"
     },
     "output_type": "display_data"
    }
   ],
   "source": [
    "from sklearn.metrics import confusion_matrix\n",
    "cm = confusion_matrix(y_test, y_pred)\n",
    "\n",
    "import seaborn as sns\n",
    "sns.heatmap(cm, annot=True)"
   ]
  },
  {
   "cell_type": "code",
   "execution_count": 232,
   "metadata": {
    "colab": {
     "base_uri": "https://localhost:8080/"
    },
    "execution": {
     "iopub.execute_input": "2023-03-01T15:47:54.562837Z",
     "iopub.status.busy": "2023-03-01T15:47:54.561907Z",
     "iopub.status.idle": "2023-03-01T15:47:54.570303Z",
     "shell.execute_reply": "2023-03-01T15:47:54.569497Z",
     "shell.execute_reply.started": "2023-03-01T15:47:54.562782Z"
    },
    "id": "JN6QMkh9T3u6",
    "outputId": "8921df83-33af-49ae-8f0e-58c36d689ac1"
   },
   "outputs": [
    {
     "data": {
      "text/plain": [
       "array([[965,   0],\n",
       "       [ 25, 125]], dtype=int64)"
      ]
     },
     "execution_count": 232,
     "metadata": {},
     "output_type": "execute_result"
    }
   ],
   "source": [
    "cm"
   ]
  },
  {
   "cell_type": "markdown",
   "metadata": {
    "id": "Op3sr5kUT3u6"
   },
   "source": [
    "# Classification Report"
   ]
  },
  {
   "cell_type": "code",
   "execution_count": 233,
   "metadata": {
    "colab": {
     "base_uri": "https://localhost:8080/"
    },
    "execution": {
     "iopub.execute_input": "2023-03-01T15:55:21.919327Z",
     "iopub.status.busy": "2023-03-01T15:55:21.918347Z",
     "iopub.status.idle": "2023-03-01T15:55:21.964737Z",
     "shell.execute_reply": "2023-03-01T15:55:21.963303Z",
     "shell.execute_reply.started": "2023-03-01T15:55:21.919280Z"
    },
    "id": "8-3ccGfxT3u6",
    "outputId": "f720df7a-dfff-421e-ec38-78939d64c892"
   },
   "outputs": [
    {
     "name": "stdout",
     "output_type": "stream",
     "text": [
      "              precision    recall  f1-score   support\n",
      "\n",
      "         ham       0.97      1.00      0.99       965\n",
      "        spam       1.00      0.83      0.91       150\n",
      "\n",
      "    accuracy                           0.98      1115\n",
      "   macro avg       0.99      0.92      0.95      1115\n",
      "weighted avg       0.98      0.98      0.98      1115\n",
      "\n"
     ]
    }
   ],
   "source": [
    "from sklearn.metrics import classification_report\n",
    "report = classification_report(y_test, y_pred)\n",
    "print(report)"
   ]
  }
 ],
 "metadata": {
  "colab": {
   "include_colab_link": true,
   "provenance": []
  },
  "kernelspec": {
   "display_name": "Python 3 (ipykernel)",
   "language": "python",
   "name": "python3"
  },
  "language_info": {
   "codemirror_mode": {
    "name": "ipython",
    "version": 3
   },
   "file_extension": ".py",
   "mimetype": "text/x-python",
   "name": "python",
   "nbconvert_exporter": "python",
   "pygments_lexer": "ipython3",
   "version": "3.9.7"
  },
  "widgets": {
   "application/vnd.jupyter.widget-state+json": {
    "11ca28f6868e443b8b6d4c8c796cb0dd": {
     "model_module": "@jupyter-widgets/base",
     "model_module_version": "1.2.0",
     "model_name": "LayoutModel",
     "state": {
      "_model_module": "@jupyter-widgets/base",
      "_model_module_version": "1.2.0",
      "_model_name": "LayoutModel",
      "_view_count": null,
      "_view_module": "@jupyter-widgets/base",
      "_view_module_version": "1.2.0",
      "_view_name": "LayoutView",
      "align_content": null,
      "align_items": null,
      "align_self": null,
      "border": null,
      "bottom": null,
      "display": null,
      "flex": null,
      "flex_flow": null,
      "grid_area": null,
      "grid_auto_columns": null,
      "grid_auto_flow": null,
      "grid_auto_rows": null,
      "grid_column": null,
      "grid_gap": null,
      "grid_row": null,
      "grid_template_areas": null,
      "grid_template_columns": null,
      "grid_template_rows": null,
      "height": null,
      "justify_content": null,
      "justify_items": null,
      "left": null,
      "margin": null,
      "max_height": null,
      "max_width": null,
      "min_height": null,
      "min_width": null,
      "object_fit": null,
      "object_position": null,
      "order": null,
      "overflow": null,
      "overflow_x": null,
      "overflow_y": null,
      "padding": null,
      "right": null,
      "top": null,
      "visibility": null,
      "width": null
     }
    },
    "1bf07b30c8d8402aaaed94c725263b3e": {
     "model_module": "@jupyter-widgets/controls",
     "model_module_version": "1.5.0",
     "model_name": "HTMLModel",
     "state": {
      "_dom_classes": [],
      "_model_module": "@jupyter-widgets/controls",
      "_model_module_version": "1.5.0",
      "_model_name": "HTMLModel",
      "_view_count": null,
      "_view_module": "@jupyter-widgets/controls",
      "_view_module_version": "1.5.0",
      "_view_name": "HTMLView",
      "description": "",
      "description_tooltip": null,
      "layout": "IPY_MODEL_9413b6b656fe47708826ff8abf769d6d",
      "placeholder": "​",
      "style": "IPY_MODEL_77d36c0017584314ad8c5454ccc505a2",
      "value": " 5572/5572 [00:18&lt;00:00, 167.01it/s]"
     }
    },
    "3595e6b5acc54ab9a612556b2dd0ce15": {
     "model_module": "@jupyter-widgets/controls",
     "model_module_version": "1.5.0",
     "model_name": "ProgressStyleModel",
     "state": {
      "_model_module": "@jupyter-widgets/controls",
      "_model_module_version": "1.5.0",
      "_model_name": "ProgressStyleModel",
      "_view_count": null,
      "_view_module": "@jupyter-widgets/base",
      "_view_module_version": "1.2.0",
      "_view_name": "StyleView",
      "bar_color": null,
      "description_width": ""
     }
    },
    "62b8797979dc4c34b9abdaa331be351d": {
     "model_module": "@jupyter-widgets/base",
     "model_module_version": "1.2.0",
     "model_name": "LayoutModel",
     "state": {
      "_model_module": "@jupyter-widgets/base",
      "_model_module_version": "1.2.0",
      "_model_name": "LayoutModel",
      "_view_count": null,
      "_view_module": "@jupyter-widgets/base",
      "_view_module_version": "1.2.0",
      "_view_name": "LayoutView",
      "align_content": null,
      "align_items": null,
      "align_self": null,
      "border": null,
      "bottom": null,
      "display": null,
      "flex": null,
      "flex_flow": null,
      "grid_area": null,
      "grid_auto_columns": null,
      "grid_auto_flow": null,
      "grid_auto_rows": null,
      "grid_column": null,
      "grid_gap": null,
      "grid_row": null,
      "grid_template_areas": null,
      "grid_template_columns": null,
      "grid_template_rows": null,
      "height": null,
      "justify_content": null,
      "justify_items": null,
      "left": null,
      "margin": null,
      "max_height": null,
      "max_width": null,
      "min_height": null,
      "min_width": null,
      "object_fit": null,
      "object_position": null,
      "order": null,
      "overflow": null,
      "overflow_x": null,
      "overflow_y": null,
      "padding": null,
      "right": null,
      "top": null,
      "visibility": null,
      "width": null
     }
    },
    "77d36c0017584314ad8c5454ccc505a2": {
     "model_module": "@jupyter-widgets/controls",
     "model_module_version": "1.5.0",
     "model_name": "DescriptionStyleModel",
     "state": {
      "_model_module": "@jupyter-widgets/controls",
      "_model_module_version": "1.5.0",
      "_model_name": "DescriptionStyleModel",
      "_view_count": null,
      "_view_module": "@jupyter-widgets/base",
      "_view_module_version": "1.2.0",
      "_view_name": "StyleView",
      "description_width": ""
     }
    },
    "9413b6b656fe47708826ff8abf769d6d": {
     "model_module": "@jupyter-widgets/base",
     "model_module_version": "1.2.0",
     "model_name": "LayoutModel",
     "state": {
      "_model_module": "@jupyter-widgets/base",
      "_model_module_version": "1.2.0",
      "_model_name": "LayoutModel",
      "_view_count": null,
      "_view_module": "@jupyter-widgets/base",
      "_view_module_version": "1.2.0",
      "_view_name": "LayoutView",
      "align_content": null,
      "align_items": null,
      "align_self": null,
      "border": null,
      "bottom": null,
      "display": null,
      "flex": null,
      "flex_flow": null,
      "grid_area": null,
      "grid_auto_columns": null,
      "grid_auto_flow": null,
      "grid_auto_rows": null,
      "grid_column": null,
      "grid_gap": null,
      "grid_row": null,
      "grid_template_areas": null,
      "grid_template_columns": null,
      "grid_template_rows": null,
      "height": null,
      "justify_content": null,
      "justify_items": null,
      "left": null,
      "margin": null,
      "max_height": null,
      "max_width": null,
      "min_height": null,
      "min_width": null,
      "object_fit": null,
      "object_position": null,
      "order": null,
      "overflow": null,
      "overflow_x": null,
      "overflow_y": null,
      "padding": null,
      "right": null,
      "top": null,
      "visibility": null,
      "width": null
     }
    },
    "9e46f181237d44f9b5a62c9e80924d1c": {
     "model_module": "@jupyter-widgets/controls",
     "model_module_version": "1.5.0",
     "model_name": "HBoxModel",
     "state": {
      "_dom_classes": [],
      "_model_module": "@jupyter-widgets/controls",
      "_model_module_version": "1.5.0",
      "_model_name": "HBoxModel",
      "_view_count": null,
      "_view_module": "@jupyter-widgets/controls",
      "_view_module_version": "1.5.0",
      "_view_name": "HBoxView",
      "box_style": "",
      "children": [
       "IPY_MODEL_c2878f5afdcb45aba6a3dfde99eb04ab",
       "IPY_MODEL_df1bb1e0ca7d4729888838c313541ea0",
       "IPY_MODEL_1bf07b30c8d8402aaaed94c725263b3e"
      ],
      "layout": "IPY_MODEL_62b8797979dc4c34b9abdaa331be351d"
     }
    },
    "c2878f5afdcb45aba6a3dfde99eb04ab": {
     "model_module": "@jupyter-widgets/controls",
     "model_module_version": "1.5.0",
     "model_name": "HTMLModel",
     "state": {
      "_dom_classes": [],
      "_model_module": "@jupyter-widgets/controls",
      "_model_module_version": "1.5.0",
      "_model_name": "HTMLModel",
      "_view_count": null,
      "_view_module": "@jupyter-widgets/controls",
      "_view_module_version": "1.5.0",
      "_view_name": "HTMLView",
      "description": "",
      "description_tooltip": null,
      "layout": "IPY_MODEL_c3d2a2764e154874bdeb3de4bca0a413",
      "placeholder": "​",
      "style": "IPY_MODEL_d224f2a52b36473592156da6a9bebdeb",
      "value": "100%"
     }
    },
    "c3d2a2764e154874bdeb3de4bca0a413": {
     "model_module": "@jupyter-widgets/base",
     "model_module_version": "1.2.0",
     "model_name": "LayoutModel",
     "state": {
      "_model_module": "@jupyter-widgets/base",
      "_model_module_version": "1.2.0",
      "_model_name": "LayoutModel",
      "_view_count": null,
      "_view_module": "@jupyter-widgets/base",
      "_view_module_version": "1.2.0",
      "_view_name": "LayoutView",
      "align_content": null,
      "align_items": null,
      "align_self": null,
      "border": null,
      "bottom": null,
      "display": null,
      "flex": null,
      "flex_flow": null,
      "grid_area": null,
      "grid_auto_columns": null,
      "grid_auto_flow": null,
      "grid_auto_rows": null,
      "grid_column": null,
      "grid_gap": null,
      "grid_row": null,
      "grid_template_areas": null,
      "grid_template_columns": null,
      "grid_template_rows": null,
      "height": null,
      "justify_content": null,
      "justify_items": null,
      "left": null,
      "margin": null,
      "max_height": null,
      "max_width": null,
      "min_height": null,
      "min_width": null,
      "object_fit": null,
      "object_position": null,
      "order": null,
      "overflow": null,
      "overflow_x": null,
      "overflow_y": null,
      "padding": null,
      "right": null,
      "top": null,
      "visibility": null,
      "width": null
     }
    },
    "d224f2a52b36473592156da6a9bebdeb": {
     "model_module": "@jupyter-widgets/controls",
     "model_module_version": "1.5.0",
     "model_name": "DescriptionStyleModel",
     "state": {
      "_model_module": "@jupyter-widgets/controls",
      "_model_module_version": "1.5.0",
      "_model_name": "DescriptionStyleModel",
      "_view_count": null,
      "_view_module": "@jupyter-widgets/base",
      "_view_module_version": "1.2.0",
      "_view_name": "StyleView",
      "description_width": ""
     }
    },
    "df1bb1e0ca7d4729888838c313541ea0": {
     "model_module": "@jupyter-widgets/controls",
     "model_module_version": "1.5.0",
     "model_name": "FloatProgressModel",
     "state": {
      "_dom_classes": [],
      "_model_module": "@jupyter-widgets/controls",
      "_model_module_version": "1.5.0",
      "_model_name": "FloatProgressModel",
      "_view_count": null,
      "_view_module": "@jupyter-widgets/controls",
      "_view_module_version": "1.5.0",
      "_view_name": "ProgressView",
      "bar_style": "success",
      "description": "",
      "description_tooltip": null,
      "layout": "IPY_MODEL_11ca28f6868e443b8b6d4c8c796cb0dd",
      "max": 5572,
      "min": 0,
      "orientation": "horizontal",
      "style": "IPY_MODEL_3595e6b5acc54ab9a612556b2dd0ce15",
      "value": 5572
     }
    }
   }
  }
 },
 "nbformat": 4,
 "nbformat_minor": 1
}
